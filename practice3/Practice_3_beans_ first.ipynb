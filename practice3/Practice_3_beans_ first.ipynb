{
  "nbformat": 4,
  "nbformat_minor": 0,
  "metadata": {
    "colab": {
      "provenance": []
    },
    "kernelspec": {
      "name": "python3",
      "display_name": "Python 3"
    },
    "language_info": {
      "name": "python"
    }
  },
  "cells": [
    {
      "cell_type": "code",
      "execution_count": 7,
      "metadata": {
        "colab": {
          "base_uri": "https://localhost:8080/"
        },
        "id": "EH5bcfcsXCev",
        "outputId": "fa28959d-7a02-4a1d-b264-47fa48f4c8d4"
      },
      "outputs": [
        {
          "output_type": "stream",
          "name": "stdout",
          "text": [
            "Epoch 1/10\n",
            "33/33 [==============================] - 61s 2s/step - loss: 5.5256 - accuracy: 0.4149 - val_loss: 1.1742 - val_accuracy: 0.4662\n",
            "Epoch 2/10\n",
            "33/33 [==============================] - 56s 2s/step - loss: 0.8544 - accuracy: 0.6431 - val_loss: 0.7038 - val_accuracy: 0.6917\n",
            "Epoch 3/10\n",
            "33/33 [==============================] - 55s 2s/step - loss: 0.5316 - accuracy: 0.7834 - val_loss: 0.6921 - val_accuracy: 0.7368\n",
            "Epoch 4/10\n",
            "33/33 [==============================] - 55s 2s/step - loss: 0.3613 - accuracy: 0.8733 - val_loss: 0.5767 - val_accuracy: 0.7669\n",
            "Epoch 5/10\n",
            "33/33 [==============================] - 55s 2s/step - loss: 0.2183 - accuracy: 0.9333 - val_loss: 0.6424 - val_accuracy: 0.7594\n",
            "Epoch 6/10\n",
            "33/33 [==============================] - 56s 2s/step - loss: 0.1503 - accuracy: 0.9652 - val_loss: 0.5735 - val_accuracy: 0.7669\n",
            "Epoch 7/10\n",
            "33/33 [==============================] - 59s 2s/step - loss: 0.0945 - accuracy: 0.9874 - val_loss: 0.5671 - val_accuracy: 0.7744\n",
            "Epoch 8/10\n",
            "33/33 [==============================] - 57s 2s/step - loss: 0.0602 - accuracy: 0.9981 - val_loss: 0.5768 - val_accuracy: 0.7744\n",
            "Epoch 9/10\n",
            "33/33 [==============================] - 56s 2s/step - loss: 0.0424 - accuracy: 1.0000 - val_loss: 0.5913 - val_accuracy: 0.7744\n",
            "Epoch 10/10\n",
            "33/33 [==============================] - 57s 2s/step - loss: 0.0319 - accuracy: 1.0000 - val_loss: 0.6012 - val_accuracy: 0.7895\n"
          ]
        },
        {
          "output_type": "execute_result",
          "data": {
            "text/plain": [
              "<keras.callbacks.History at 0x7f63783f96d0>"
            ]
          },
          "metadata": {},
          "execution_count": 7
        }
      ],
      "source": [
        "import tensorflow as tf\n",
        "from tensorflow.keras import layers\n",
        "import tensorflow_datasets as tfds\n",
        "\n",
        "# Завантаження даних\n",
        "beans_dataset, info = tfds.load('beans', split='train', with_info=True)\n",
        "\n",
        "# Перетворення даних\n",
        "def preprocess(data):\n",
        "    image = data['image']\n",
        "    label = data['label']\n",
        "    image = tf.image.resize(image, (224, 224))\n",
        "    image /= 255.0\n",
        "    return image, label\n",
        "\n",
        "batch_size = 32\n",
        "\n",
        "train_dataset = beans_dataset.map(preprocess).shuffle(1000).batch(batch_size)\n",
        "validation_dataset = tfds.load('beans', split='validation').map(preprocess).batch(batch_size)\n",
        "\n",
        "# Створення згорткового шару та повністю зв'язаних шарів\n",
        "model = tf.keras.Sequential([\n",
        "    layers.Conv2D(32, (3, 3), activation='relu', input_shape=(224, 224, 3)),\n",
        "    layers.MaxPooling2D((2, 2)),\n",
        "    layers.Flatten(),\n",
        "    layers.Dense(64, activation='relu'),\n",
        "    layers.Dense(3, activation='softmax')\n",
        "])\n",
        "\n",
        "# Компіляція моделі\n",
        "model.compile(optimizer='adam',\n",
        "              loss='categorical_crossentropy',\n",
        "              metrics=['accuracy'])\n",
        "# one-hot encoding\n",
        "num_classes = info.features['label'].num_classes\n",
        "train_dataset = train_dataset.map(lambda x, y: (x, tf.one_hot(y, num_classes)))\n",
        "validation_dataset = validation_dataset.map(lambda x, y: (x, tf.one_hot(y, num_classes)))\n",
        "\n",
        "# Навчання моделі\n",
        "model.fit(train_dataset, epochs=10, validation_data=validation_dataset)\n"
      ]
    }
  ]
}